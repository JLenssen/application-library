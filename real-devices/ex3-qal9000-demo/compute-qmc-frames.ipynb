{
 "cells": [
  {
   "cell_type": "markdown",
   "metadata": {},
   "source": [
    "# ex3-qal9000 Demo: Quantum Monte Carlo on QAL9000\n",
    "\n",
    "This demonstration was given at QC Norway event given in December 2022. The demonstration can be viewed on youtube [here](https://www.youtube.com/watch?v=PP3F9pcZgL8). A blog post was written about the event [here](https://nordiquest.net/_posts/2022-12-13-Nordiquest_QC_Norway/).\n",
    "\n"
   ]
  },
  {
   "cell_type": "markdown",
   "metadata": {},
   "source": [
    "## Import necessary libraries"
   ]
  },
  {
   "cell_type": "code",
   "execution_count": null,
   "metadata": {},
   "outputs": [],
   "source": [
    "%matplotlib inline"
   ]
  },
  {
   "cell_type": "code",
   "execution_count": null,
   "metadata": {},
   "outputs": [],
   "source": [
    "from datetime import datetime\n",
    "from os import environ, listdir, makedirs\n",
    "from pathlib import Path\n",
    "from shutil import move\n",
    "from uuid import uuid4 as uuid\n",
    "\n",
    "import matplotlib.pyplot as plt\n",
    "import numpy as np\n",
    "import requests\n",
    "from qiskit.providers.fake_provider import FakeManilaV2\n",
    "from tqdm.auto import tqdm"
   ]
  },
  {
   "cell_type": "markdown",
   "metadata": {},
   "source": [
    "## Setting environment variables"
   ]
  },
  {
   "cell_type": "code",
   "execution_count": null,
   "metadata": {},
   "outputs": [],
   "source": [
    "API_URL = environ.get(\"QAL9000_API_URL\", default=\"https://api.qal9000.se\")\n",
    "BCC_URL = environ.get(\"QAL9000_BCC_URL\")\n",
    "API_TOKEN = environ.get(\"QAL9000_API_TOKEN\")\n",
    "# the name of this service. For your own bookkeeping.\n",
    "SERVICE_NAME = \"local\""
   ]
  },
  {
   "cell_type": "markdown",
   "metadata": {},
   "source": [
    "## Helper functions"
   ]
  },
  {
   "cell_type": "markdown",
   "metadata": {},
   "source": [
    "Function to save old frames"
   ]
  },
  {
   "cell_type": "code",
   "execution_count": null,
   "metadata": {},
   "outputs": [],
   "source": [
    "folder = Path(\"demo_qmc_frames\").resolve()\n",
    "\n",
    "\n",
    "def save_old_frames():\n",
    "    global folder\n",
    "    saved_folder = folder / \"saved_animations\"\n",
    "    makedirs(saved_folder, exist_ok=True)\n",
    "\n",
    "    old_frames = [f for f in listdir(folder) if f.endswith(\".jpg\")]\n",
    "\n",
    "    if len(old_frames):\n",
    "        now_time = datetime.now()\n",
    "        mstr = now_time.strftime(\"%Y%m%d%H%M%S\")\n",
    "        new_dir = saved_folder / mstr\n",
    "        makedirs(new_dir, exist_ok=True)\n",
    "        for f in old_frames:\n",
    "            move(folder / f, new_dir / f)\n",
    "\n",
    "\n",
    "save_old_frames()"
   ]
  },
  {
   "cell_type": "code",
   "execution_count": null,
   "metadata": {},
   "outputs": [],
   "source": [
    "def f(x):\n",
    "    return np.sqrt(1 - x**2)\n",
    "\n",
    "\n",
    "# hitmiss estimator, given input points\n",
    "def qmc_estimate(fn: callable, U: np.ndarray) -> float:\n",
    "    estimate = np.mean(\n",
    "        U[:, 1] <= fn(U[:, 0])\n",
    "    )  # <- This is the estimator for integral value\n",
    "    return estimate\n",
    "\n",
    "\n",
    "def plot_labels_etc(ax: object):\n",
    "    text_settings = dict(fontsize=23)\n",
    "    ax.set_title(\"Quantum Monte Carlo\", **text_settings)\n",
    "    ax.plot(np.linspace(0, 1, 1000), f(np.linspace(0, 1, 1000)), lw=3.5, zorder=99)\n",
    "    ax.set_ylabel(\"f(x)\", **text_settings)\n",
    "    ax.set_xlabel(\"x\", **text_settings)\n",
    "    ax.grid(zorder=-99, alpha=0.5)\n",
    "    ax.tick_params(axis=\"both\", which=\"minor\", labelsize=text_settings[\"fontsize\"])\n",
    "    ax.tick_params(axis=\"both\", which=\"major\", labelsize=text_settings[\"fontsize\"])\n",
    "\n",
    "\n",
    "# plots a textbox\n",
    "def plot_estimate(ax: object, estimate: float):\n",
    "    textstr = r\"$\\hat\\pi = {:10.5f}$\".format(estimate)\n",
    "    props = dict(boxstyle=\"round\", facecolor=\"wheat\", alpha=1)\n",
    "    # place a text box in upper left in axes coords\n",
    "    ax.text(\n",
    "        0.15,\n",
    "        0.15,\n",
    "        textstr,\n",
    "        transform=ax.transAxes,\n",
    "        verticalalignment=\"top\",\n",
    "        bbox=props,\n",
    "        fontsize=25,\n",
    "    )\n",
    "\n",
    "\n",
    "def plot_samples(ax: object, samples: np.array, marker: str = \"o\"):\n",
    "    inside = np.sqrt(samples[:, 0] ** 2 + samples[:, 1] ** 2) < 1\n",
    "    ax.scatter(samples[inside, 0], samples[inside, 1], color=\"C1\", marker=marker)\n",
    "    ax.scatter(samples[~inside, 0], samples[~inside, 1], color=\"C2\", marker=marker)"
   ]
  },
  {
   "cell_type": "markdown",
   "metadata": {},
   "source": [
    "## Initialize the account and backend "
   ]
  },
  {
   "cell_type": "code",
   "execution_count": null,
   "metadata": {},
   "outputs": [],
   "source": [
    "# account = ProviderAccount(service_name=SERVICE_NAME, url=API_URL, token=API_TOKEN)\n",
    "# chalmers = Tergite.use_provider_account(account)\n",
    "# backend = chalmers.get_backend(\"Nov7\")\n",
    "bcc_url = \"\"\n",
    "\n",
    "backend = FakeManilaV2()\n",
    "\n",
    "print(f\"Connected to backend: {backend.name}\")"
   ]
  },
  {
   "cell_type": "markdown",
   "metadata": {},
   "source": [
    "## Computing the frames"
   ]
  },
  {
   "cell_type": "code",
   "execution_count": null,
   "metadata": {},
   "outputs": [],
   "source": [
    "points = np.asarray([[], []]).T\n",
    "job_ids = list(str(uuid()) for _ in range(15))\n",
    "\n",
    "\n",
    "def compute_new_frame(j: int):\n",
    "    global points\n",
    "    global job_ids\n",
    "    job_id = job_ids[j]\n",
    "\n",
    "    fig, ax = plt.subplots(figsize=(7.6, 7.6))\n",
    "\n",
    "    # queue job on backend\n",
    "    bcc_response = requests.get(bcc_url + \"/rng/\" + job_id)\n",
    "    assert bcc_response.ok\n",
    "\n",
    "    # wait for job to complete, blocking REST API call chain\n",
    "    mss_response = requests.get(API_URL + \"/rng/\" + job_id)\n",
    "    assert mss_response.ok\n",
    "    data = mss_response.json()\n",
    "\n",
    "    # split obtained numbers into two disjoint subsets\n",
    "    N = data[\"N\"] // 2\n",
    "    X = np.asarray(data[\"numbers\"][:N]).astype(float)  # first N are X coordinate\n",
    "    Y = np.asarray(data[\"numbers\"][N : (N + N)]).astype(\n",
    "        float\n",
    "    )  # second N are Y coordinate\n",
    "\n",
    "    # these numbers are random 32-bit integers in the range [-2**31, 2**31 - 1]\n",
    "    # so we want to convert them to floats in the range [0,1]\n",
    "    X += 2**31\n",
    "    Y += 2**31\n",
    "\n",
    "    X *= 2**-32\n",
    "    Y *= 2**-32\n",
    "\n",
    "    # concatenate points obtained\n",
    "    U = np.zeros((N, 2))\n",
    "    U[:, 0] = X\n",
    "    U[:, 1] = Y\n",
    "    points = np.concatenate((points, U))\n",
    "    est = qmc_estimate(f, points)\n",
    "\n",
    "    # create figure and save\n",
    "    plot_labels_etc(ax)\n",
    "    plot_samples(ax, points)\n",
    "    plot_estimate(ax, est * 4)\n",
    "\n",
    "    fig.savefig(folder / f\"frame{j}.jpg\", dpi=300, bbox_inches=\"tight\")\n",
    "\n",
    "\n",
    "for j in tqdm(range(len(job_ids)), desc=\"Quantum Monte Carlo\"):\n",
    "    compute_new_frame(j)"
   ]
  },
  {
   "cell_type": "code",
   "execution_count": null,
   "metadata": {},
   "outputs": [],
   "source": []
  }
 ],
 "metadata": {
  "language_info": {
   "name": "python"
  }
 },
 "nbformat": 4,
 "nbformat_minor": 2
}
