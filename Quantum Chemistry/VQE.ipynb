{
 "cells": [
  {
   "attachments": {},
   "cell_type": "markdown",
   "metadata": {},
   "source": [
    "## Finding the Ground State Energy of Molecular Hydrogen (H2) via the Variational Quantum Eigensolver (VQE).\n",
    "\n",
    "VQE is the most commonly used algorithm to obtain the ground state energy of molecules due to lower requirements in the coherence times of the Quantum Processing Unit (QPU). \n",
    "\n",
    "As explained in the theory chapter it combines the quantum and classical processes. Specifically, it will use the QPU to measure the expectation value of the Molecular Hamiltonian ($\\langle \\Psi | H | \\Psi \\rangle$) and a classical optimization method to vary the parameters of the Wavefunction (commonly used optimizers are SLSQP or SPSA).\n",
    "\n",
    "Let us see how do we obtain the Ground State Energy of H2 using Qiskit."
   ]
  },
  {
   "cell_type": "code",
   "execution_count": 1,
   "metadata": {},
   "outputs": [
    {
     "name": "stderr",
     "output_type": "stream",
     "text": [
      "Numpy 1.16 has memory leak bug  https://github.com/numpy/numpy/issues/13808\n",
      "It is recommended to downgrade to numpy 1.15 or older\n"
     ]
    }
   ],
   "source": [
    "from qiskit_nature.units import DistanceUnit\n",
    "from qiskit_nature.second_q.drivers import PySCFDriver\n",
    "\n",
    "driver = PySCFDriver(\n",
    "    atom=\"H 0 0 0; H 0 0 0.735\",\n",
    "    basis=\"sto3g\",\n",
    "    charge=0,\n",
    "    spin=0,\n",
    "    unit=DistanceUnit.ANGSTROM,\n",
    ")\n",
    "\n",
    "es_problem = driver.run()"
   ]
  },
  {
   "attachments": {},
   "cell_type": "markdown",
   "metadata": {},
   "source": [
    "The code above has used a classical Quantum Chemical Software (PySCF) to obtain the Hartree-Fock wavefunction.\n",
    "We can easily visualize the matrix elements of the Molecular Hamiltionian by accessing the properties of the object `es_problem`"
   ]
  },
  {
   "cell_type": "code",
   "execution_count": 6,
   "metadata": {},
   "outputs": [
    {
     "name": "stdout",
     "output_type": "stream",
     "text": [
      "  (1, 1)\t(-0.4718960072811405+0j)\n",
      "  (2, 2)\t(-1.2563390730032507+0j)\n",
      "  (3, 3)\t(-1.2445845498133257+0j)\n",
      "  (4, 4)\t(-0.4718960072811405+0j)\n",
      "  (5, 5)\t(-0.2452182918302624+0j)\n",
      "  (10, 5)\t(0.1809311997842315+0j)\n",
      "  (6, 6)\t(-1.0636533500290941+0j)\n",
      "  (9, 6)\t(0.18093119978423156+0j)\n",
      "  (7, 7)\t(-0.35332510410715035+0j)\n",
      "  (8, 8)\t(-1.2563390730032507+0j)\n",
      "  (6, 9)\t(0.18093119978423156+0j)\n",
      "  (9, 9)\t(-1.0636533500290941+0j)\n",
      "  (5, 10)\t(0.18093119978423142+0j)\n",
      "  (10, 10)\t(-1.8369679912029842+0j)\n",
      "  (11, 11)\t(-1.1606317377577622+0j)\n",
      "  (12, 12)\t(-1.2445845498133257+0j)\n",
      "  (13, 13)\t(-0.3533251041071502+0j)\n",
      "  (14, 14)\t(-1.1606317377577617+0j)\n",
      "  (15, 15)\t(0.2142782384194788+0j)\n"
     ]
    }
   ],
   "source": [
    "ham_matrix = es_problem.hamiltonian.second_q_op().to_matrix()\n",
    "print(ham_matrix)"
   ]
  },
  {
   "attachments": {},
   "cell_type": "markdown",
   "metadata": {},
   "source": [
    "In order to transform this problem into something that the QPU can operate with, it is needed to change basis from the Fock Space to Pauli basis. The specific transformation is called mapper or encoder. Let's use one of the more extended mappers as is the `JordanWignerMapper`"
   ]
  },
  {
   "cell_type": "code",
   "execution_count": 14,
   "metadata": {},
   "outputs": [],
   "source": [
    "from qiskit_nature.second_q.mappers import JordanWignerMapper, QubitConverter\n",
    "\n",
    "mapper = QubitConverter(JordanWignerMapper()) "
   ]
  },
  {
   "attachments": {},
   "cell_type": "markdown",
   "metadata": {},
   "source": [
    "And now, let us define the solver for finding the lowest eigenvalue of the Hamiltonian with respect to the parametrized wavefunction. At this point we also need to define the quantum circuit that we want to use. In this case, since the molecule and basis set are small, we can opt for a chemically ispired ansatz as Unitary Coupled-Cluster (UCC)."
   ]
  },
  {
   "cell_type": "code",
   "execution_count": 16,
   "metadata": {},
   "outputs": [],
   "source": [
    "from qiskit.algorithms.minimum_eigensolvers import VQE\n",
    "from qiskit.algorithms.optimizers import SLSQP\n",
    "from qiskit.primitives import Estimator\n",
    "from qiskit_nature.second_q.circuit.library import HartreeFock, UCCSD\n",
    "\n",
    "initial_state = HartreeFock(es_problem.num_spatial_orbitals,es_problem.num_particles,mapper)\n",
    "\n",
    "ansatz = UCCSD(\n",
    "    es_problem.num_spatial_orbitals,\n",
    "    es_problem.num_particles,\n",
    "    mapper,\n",
    "    initial_state=initial_state\n",
    ")\n",
    "\n",
    "vqe_solver = VQE(Estimator(), ansatz, SLSQP())\n",
    "vqe_solver.initial_point = [0.0] * ansatz.num_parameters"
   ]
  },
  {
   "attachments": {},
   "cell_type": "markdown",
   "metadata": {},
   "source": [
    "Once we have defined all the necessary ingredients for obtaining the ground state energy we can use the overall algorithm `GroundStateEigensolver` that wraps all the above defined variables and algos into a single and compact algorithm."
   ]
  },
  {
   "cell_type": "code",
   "execution_count": 17,
   "metadata": {},
   "outputs": [
    {
     "name": "stdout",
     "output_type": "stream",
     "text": [
      "=== GROUND STATE ENERGY ===\n",
      " \n",
      "* Electronic ground state energy (Hartree): -1.857275030144\n",
      "  - computed part:      -1.857275030144\n",
      "~ Nuclear repulsion energy (Hartree): 0.719968994449\n",
      "> Total ground state energy (Hartree): -1.137306035695\n",
      " \n",
      "=== MEASURED OBSERVABLES ===\n",
      " \n",
      "  0:  # Particles: 2.000 S: 0.000 S^2: 0.000 M: 0.000\n",
      " \n",
      "=== DIPOLE MOMENTS ===\n",
      " \n",
      "~ Nuclear dipole moment (a.u.): [0.0  0.0  1.3889487]\n",
      " \n",
      "  0: \n",
      "  * Electronic dipole moment (a.u.): [0.0  0.0  1.38894846]\n",
      "    - computed part:      [0.0  0.0  1.38894846]\n",
      "  > Dipole moment (a.u.): [0.0  0.0  0.00000024]  Total: 0.00000024\n",
      "                 (debye): [0.0  0.0  0.00000061]  Total: 0.00000061\n",
      " \n"
     ]
    }
   ],
   "source": [
    "from qiskit_nature.second_q.algorithms import GroundStateEigensolver\n",
    "\n",
    "calc = GroundStateEigensolver(mapper, vqe_solver)\n",
    "res = calc.solve(es_problem)\n",
    "print(res)"
   ]
  },
  {
   "cell_type": "code",
   "execution_count": null,
   "metadata": {},
   "outputs": [],
   "source": []
  }
 ],
 "metadata": {
  "kernelspec": {
   "display_name": "quantum",
   "language": "python",
   "name": "python3"
  },
  "language_info": {
   "codemirror_mode": {
    "name": "ipython",
    "version": 3
   },
   "file_extension": ".py",
   "mimetype": "text/x-python",
   "name": "python",
   "nbconvert_exporter": "python",
   "pygments_lexer": "ipython3",
   "version": "3.7.13"
  },
  "orig_nbformat": 4
 },
 "nbformat": 4,
 "nbformat_minor": 2
}
