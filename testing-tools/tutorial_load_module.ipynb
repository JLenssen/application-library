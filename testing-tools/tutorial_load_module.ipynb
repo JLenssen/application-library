{
 "cells": [
  {
   "cell_type": "markdown",
   "id": "61783c18",
   "metadata": {},
   "source": [
    "# Loading the Quantum Testing Module"
   ]
  },
  {
   "cell_type": "markdown",
   "id": "300ff571",
   "metadata": {},
   "source": [
    "This tutorial tells you how to load the quantum testing module and execute on Jupyter Notebook."
   ]
  },
  {
   "cell_type": "markdown",
   "id": "93fc857f",
   "metadata": {},
   "source": [
    "## Step 1. Load the Jupyter Module enviornment"
   ]
  },
  {
   "cell_type": "markdown",
   "id": "cad31268",
   "metadata": {},
   "source": [
    "Please first load all QC models on eX3."
   ]
  },
  {
   "cell_type": "raw",
   "id": "6b7f465f",
   "metadata": {},
   "source": [
    "module use /cm/shared/ex3-qc-modules/modulefiles"
   ]
  },
  {
   "cell_type": "markdown",
   "id": "c07b638b",
   "metadata": {},
   "source": [
    "Currently, we probide the following QC modules:\n",
    "\n",
    "Google,  IBM,  Nvidia,  qucat,  QuEST-kit,  quito,  qusbt,  Xanadu,  ZabataComputing\n",
    "\n",
    "Taking quito enviornment as an example:"
   ]
  },
  {
   "cell_type": "raw",
   "id": "e9818c22",
   "metadata": {},
   "source": [
    "module load quito/quito-py311-jupyter-cu118-1.0"
   ]
  },
  {
   "cell_type": "markdown",
   "id": "7275d580",
   "metadata": {},
   "source": [
    "## Step 2. Open the Jupyter Notebook on eX3 with a port that is not in use currently"
   ]
  },
  {
   "cell_type": "raw",
   "id": "9faac3ca",
   "metadata": {},
   "source": [
    "jupyter notebook --no-browser --port [port number]"
   ]
  },
  {
   "cell_type": "markdown",
   "id": "5a6797c2",
   "metadata": {},
   "source": [
    "## Step 3. Open the local terminal and log in"
   ]
  },
  {
   "cell_type": "raw",
   "id": "60adec48",
   "metadata": {},
   "source": [
    "ssh -t -t [user name]@[eX3 login node ip address] -L [port number]:localhost:[port number] ssh g001 -L [port number]:localhost:[port number]"
   ]
  },
  {
   "cell_type": "markdown",
   "id": "ace531e3",
   "metadata": {},
   "source": [
    "Now, you can open http://localhost:[port number]/ in your local browser to run the Jupyter Notebook tutorials."
   ]
  }
 ],
 "metadata": {
  "kernelspec": {
   "display_name": "Python 3 (ipykernel)",
   "language": "python",
   "name": "python3"
  },
  "language_info": {
   "codemirror_mode": {
    "name": "ipython",
    "version": 3
   },
   "file_extension": ".py",
   "mimetype": "text/x-python",
   "name": "python",
   "nbconvert_exporter": "python",
   "pygments_lexer": "ipython3",
   "version": "3.9.12"
  }
 },
 "nbformat": 4,
 "nbformat_minor": 5
}
